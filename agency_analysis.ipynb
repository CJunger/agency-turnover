{
 "cells": [
  {
   "cell_type": "code",
   "execution_count": 1,
   "id": "da1a055a-d3d8-492b-84ee-2aff04671ca7",
   "metadata": {
    "tags": []
   },
   "outputs": [],
   "source": [
    "#Import Dependencies needed\n",
    "import pandas as pd\n",
    "import numpy as np\n",
    "import matplotlib.pyplot as plt\n",
    "import seaborn as sns\n",
    "import shap\n",
    "from sklearn.model_selection import train_test_split\n",
    "from sklearn.linear_model import LogisticRegression\n",
    "from sklearn.metrics import accuracy_score, confusion_matrix, classification_report\n",
    "from sklearn.ensemble import RandomForestClassifier\n",
    "from sklearn.preprocessing import StandardScaler\n",
    "%matplotlib inline"
   ]
  },
  {
   "cell_type": "markdown",
   "id": "f6028a6c-2729-41fd-a76f-30144c8f09c9",
   "metadata": {},
   "source": [
    "## Import the department of Labor and Department of Commerce Excel Sheets into separate dataframes. "
   ]
  },
  {
   "cell_type": "code",
   "execution_count": 2,
   "id": "e477517c-fe18-4b77-ac02-a2bdcec8cf1c",
   "metadata": {
    "tags": []
   },
   "outputs": [],
   "source": [
    "#Importing the data as a dataframe\n",
    "\n",
    "df_labor = pd.read_excel(r'CommerceLabor.xlsx', sheet_name='Department of Labor')\n",
    "\n",
    "df_commerce = pd.read_excel(r'CommerceLabor.xlsx', sheet_name='Department of Commerce')"
   ]
  },
  {
   "cell_type": "code",
   "execution_count": null,
   "id": "faad0926-e707-44ef-a9bb-8edbcbd07d1e",
   "metadata": {
    "tags": []
   },
   "outputs": [],
   "source": [
    "# Verify import worked, select one dataframe\n",
    "df_labor"
   ]
  },
  {
   "cell_type": "markdown",
   "id": "d6113342-dedb-4dae-8056-83b7d19c5904",
   "metadata": {},
   "source": [
    "#### Select Department of Labor dataframe and generate counts for each value and plot in bar charts along with the count values."
   ]
  },
  {
   "cell_type": "code",
   "execution_count": null,
   "id": "d776c6f0-4c23-4684-a3f9-ac2b2eb33826",
   "metadata": {
    "tags": []
   },
   "outputs": [],
   "source": [
    "#Create an empty data frame\n",
    "df_codebook = pd.DataFrame()"
   ]
  },
  {
   "cell_type": "code",
   "execution_count": null,
   "id": "9865a1e0-999f-4df0-b5e1-2ffe39f97ee7",
   "metadata": {
    "tags": []
   },
   "outputs": [],
   "source": [
    "#create list of columns you want the value counts for\n",
    "columns=['Q2', 'Q3', 'Q4', 'Q6', 'Q7', 'Q46', 'Q48', 'Q49', 'Q50', 'Q52','Q55', 'Q56', 'Q57', 'Q59', 'Q60', 'Q85', 'Q86', 'Q87', 'Q88', 'Q89']\n",
    "\n",
    "#loop through list and add counts to codebook\n",
    "for column in columns:\n",
    "    value = df_labor[column].value_counts()\n",
    "    df_codebook[column] = value\n",
    "    \n",
    "df_codebook.head()"
   ]
  },
  {
   "cell_type": "code",
   "execution_count": null,
   "id": "75b4cc8c-658d-4a7a-aab3-00de2e5abda9",
   "metadata": {
    "tags": []
   },
   "outputs": [],
   "source": [
    "#Plot the dataframe using a horizontal bar graph\n",
    "df_transposed = df_codebook.T\n",
    "df_transposed.plot(kind=\"barh\", stacked=True)\n",
    "plt.title(\"Value Counts of Questions with 1-5 Scale\")\n",
    "plt.xlabel(\"Value Counts\")\n",
    "plt.ylabel(\"Questions\")\n",
    "plt.legend(title=\"Answers\", bbox_to_anchor=(1.05, 1), loc='upper left')\n",
    "plt.show()"
   ]
  },
  {
   "cell_type": "markdown",
   "id": "4cbc774c-0c11-4cba-893a-0f8e574879bc",
   "metadata": {},
   "source": [
    "## Recode any variables where this is necessary. "
   ]
  },
  {
   "cell_type": "code",
   "execution_count": null,
   "id": "472ef806",
   "metadata": {
    "tags": []
   },
   "outputs": [],
   "source": [
    "#Drop the columns that aren't necessary for the project as defined in the instructions\n",
    "\n",
    "df_labor_relevant = df_labor[['RandomID', 'Q85', 'Q86', 'Q87', 'Q88', 'Q89', 'Q2', 'Q3', 'Q4', 'Q6', 'Q7', 'Q84', 'Q55', 'Q56', 'Q57', 'Q59', 'Q60', 'Q46', 'Q48', 'Q49', 'Q50', 'Q52', 'DRNO', 'DHISP', 'DDIS', 'DAGEGRP', 'DSUPER', 'DFEDTEN', 'DSEX', 'DMIL', 'DLEAVING']].copy()\n"
   ]
  },
  {
   "cell_type": "markdown",
   "id": "1ae3e795-aefd-4544-8080-a4d66f81d695",
   "metadata": {},
   "source": [
    "### Deal With Missing Values\n",
    "#### Identify and rows where a large number of responses are blank. Drop these rows."
   ]
  },
  {
   "cell_type": "code",
   "execution_count": null,
   "id": "7499e17b-ced7-4789-8238-1d3aa7b5ca42",
   "metadata": {},
   "outputs": [],
   "source": [
    "#which rows don't have many answers? take the average of the missing data and get the proportion missing\n",
    "df_labor_relevant['row_missing_percent']=df_labor_relevant.isnull().mean(axis=1)\n",
    "df_labor_relevant[df_labor_relevant['row_missing_percent']!=0.0]"
   ]
  },
  {
   "cell_type": "code",
   "execution_count": null,
   "id": "9d02738e-4b3c-4669-ba1e-a7a97d4dd689",
   "metadata": {},
   "outputs": [],
   "source": [
    "#plot histogram to check\n",
    "df_labor_relevant['row_missing_percent'].hist()"
   ]
  },
  {
   "cell_type": "code",
   "execution_count": null,
   "id": "50b13a85-d428-4d90-9a92-82ee0049cce9",
   "metadata": {},
   "outputs": [],
   "source": [
    "# drop rows with %missing more than 50% missing data\n",
    "cutpoint = .5\n",
    "#drop rows w\n",
    "df_labor_relevant_answered = df_labor_relevant.loc[df_labor_relevant['row_missing_percent']<cutpoint]\n",
    "df_labor_relevant_answered"
   ]
  },
  {
   "cell_type": "code",
   "execution_count": null,
   "id": "2313a19b-e24a-4bec-8bf5-8afc7b66f5da",
   "metadata": {
    "tags": []
   },
   "outputs": [],
   "source": [
    "df_labor_relevant_answered.drop(labels='row_missing_percent', axis=1, inplace=True)"
   ]
  },
  {
   "cell_type": "code",
   "execution_count": null,
   "id": "e82d6bd1-47a5-490f-85ae-5d438c34fc05",
   "metadata": {
    "tags": []
   },
   "outputs": [],
   "source": [
    "#drop rows where the outcome variable is missing (this is what we are studying)\n",
    "df_labor_relevant_answered = df_labor_relevant_answered.loc[df_labor_relevant_answered['DLEAVING'].isin(['A', 'B', 'C', 'D'])]\n",
    "df_labor_relevant_answered"
   ]
  },
  {
   "cell_type": "markdown",
   "id": "afdab945-184e-40d9-9382-41feaa344a87",
   "metadata": {},
   "source": [
    "####   Check to see if any variables have blank/missing for more than 10% of their values. Decide whether you want to drop these variables. If you retain them consider running the models with and without those variables."
   ]
  },
  {
   "cell_type": "code",
   "execution_count": null,
   "id": "8417f0b5-28ff-47e0-a452-470b1e335b84",
   "metadata": {},
   "outputs": [],
   "source": [
    "#Check to see if any variables have blank/missing calculate percent missing for column\n",
    "missing_df = pd.DataFrame(df_labor_relevant_answered.isnull().mean()).reset_index()\n",
    "missing_df.rename({'index':'variable_name',0:'percent_missing'}, axis=1, inplace=True)\n",
    "missing_df"
   ]
  },
  {
   "cell_type": "markdown",
   "id": "5a2fe8ca-1e62-4922-8fef-a8e3a1624831",
   "metadata": {},
   "source": [
    "#### For the variables with blank/missing or ‘Do Not Know’ values either recode those values to the median of the other values."
   ]
  },
  {
   "cell_type": "code",
   "execution_count": null,
   "id": "816bd988-ece8-4074-9871-72a0fe05f72a",
   "metadata": {},
   "outputs": [],
   "source": [
    "# convert X to missing\n",
    "df_labor_recoded = df_labor_relevant_answered.replace(r'X', np.nan, regex=True)\n",
    "df_labor_recoded"
   ]
  },
  {
   "cell_type": "code",
   "execution_count": null,
   "id": "acfbcf6c-d9ea-42b0-a250-1c4b05f72c9d",
   "metadata": {
    "tags": []
   },
   "outputs": [],
   "source": [
    "# put the columns in a list\n",
    "df_labor_columns = df_labor_recoded.columns.tolist()\n",
    "df_labor_columns"
   ]
  },
  {
   "cell_type": "code",
   "execution_count": null,
   "id": "84d7a3bc-7b5e-4f57-b74f-11daac3748d2",
   "metadata": {},
   "outputs": [],
   "source": [
    "#impute with mode (doesn't mess with distribution)\n",
    "for impute_column in df_labor_columns:\n",
    "    df_labor_recoded[impute_column].fillna(df_labor_recoded[impute_column].mode()[0], inplace=True)"
   ]
  },
  {
   "cell_type": "code",
   "execution_count": null,
   "id": "72844f32-ce4a-409a-9246-d6efc8980676",
   "metadata": {
    "tags": []
   },
   "outputs": [],
   "source": [
    "df_labor_recoded"
   ]
  },
  {
   "cell_type": "markdown",
   "id": "4ac5304f-c819-4242-b920-0804a4acd490",
   "metadata": {},
   "source": [
    "#### Create a dummy variable for each row that captures whether any recodes were done. You will use this as an additional variable in your model."
   ]
  },
  {
   "cell_type": "code",
   "execution_count": null,
   "id": "cab72797-0b4a-4e75-bfbd-5822863ecc87",
   "metadata": {},
   "outputs": [],
   "source": []
  },
  {
   "cell_type": "markdown",
   "id": "29bed698-392c-46c4-b251-c76cfeaf4fe2",
   "metadata": {
    "tags": []
   },
   "source": [
    "#### For Question 84 you will need to create dummy codes. Plot the distribution of values and decide whether to create dummies for each value or whether to combine some. Describe why you made the choice you did."
   ]
  },
  {
   "cell_type": "code",
   "execution_count": null,
   "id": "b9255dae-14cb-4c37-9ada-0960ef5432da",
   "metadata": {
    "tags": []
   },
   "outputs": [],
   "source": [
    "df_labor_recoded['Q84'].value_counts()"
   ]
  },
  {
   "cell_type": "code",
   "execution_count": null,
   "id": "dd5e2983-0368-490e-adc3-b43a66906799",
   "metadata": {},
   "outputs": [],
   "source": [
    "#turn variable into a binary variable (do you have any unmet needs or is this org failing to meet your needs)\n",
    "#Reducing it to either Needs are met \n",
    "df_labor_recoded['Q84'] = np.where(df_labor_recoded['Q84'].isin(['1', '2']),1,0)"
   ]
  },
  {
   "cell_type": "code",
   "execution_count": null,
   "id": "d00acb05-7b27-499c-801a-6bb252348ca5",
   "metadata": {
    "tags": []
   },
   "outputs": [],
   "source": [
    "df_labor_recoded.info()"
   ]
  },
  {
   "cell_type": "code",
   "execution_count": null,
   "id": "6274bd80-3b57-4b0b-9b87-a2e1b04e5a63",
   "metadata": {},
   "outputs": [],
   "source": [
    "#change type for numeric vars\n",
    "numeric_vars = []\n",
    "for num_columns in numeric_vars:\n",
    "    df_labor_recoded[num_columns]=df_labor_recoded[num_columns].astype(int)\n",
    "    \n",
    "df_labor_recoded.info()"
   ]
  },
  {
   "cell_type": "markdown",
   "id": "b8ba58d0-02ba-4713-9371-cc3f75e07362",
   "metadata": {},
   "source": [
    "#### Recode the demographic variables using dummies"
   ]
  },
  {
   "cell_type": "code",
   "execution_count": null,
   "id": "d9fd0950-04a0-4771-b4da-069ae5ea9aa3",
   "metadata": {
    "tags": []
   },
   "outputs": [],
   "source": [
    "#(6) get dummies for variables in Demographic Codes (DO NOT DO THIS FOR OUTCOME & Q84)\n",
    "demo_dummies = pd.get_dummies(df_labor_recoded, columns=['DRNO', 'DHISP', 'DDIS', 'DAGEGRP', 'DSUPER', 'DFEDTEN', 'DSEX', 'DMIL'])\n",
    "\n",
    "demo_dummies.tail()"
   ]
  },
  {
   "cell_type": "code",
   "execution_count": null,
   "id": "6638e66e-d87a-4bfc-b47a-f8fcab994bfd",
   "metadata": {
    "tags": []
   },
   "outputs": [],
   "source": [
    "demo_dummies.columns.to_list()"
   ]
  },
  {
   "cell_type": "markdown",
   "id": "f52f5268-6c59-4ca0-9dfa-3bd5f7e81b3e",
   "metadata": {},
   "source": [
    "#### Recode the outcome variable so that 0 if ‘No’ (‘A’) or 1 if anything else ‘Yes’ (‘B’, ‘C’, ‘D’) "
   ]
  },
  {
   "cell_type": "code",
   "execution_count": null,
   "id": "e60def9e-d8ab-42a9-830c-ec487b0fd060",
   "metadata": {
    "tags": []
   },
   "outputs": [],
   "source": [
    "demo_dummies['DLEAVING'] = np.where(demo_dummies['DLEAVING'] == 'A', 0, 1)\n",
    "\n",
    "demo_dummies"
   ]
  },
  {
   "cell_type": "markdown",
   "id": "263403fb-d955-442a-9e9a-27564ce8bf0d",
   "metadata": {},
   "source": [
    "####  Combine all of the variables back into a single dataframe"
   ]
  },
  {
   "cell_type": "code",
   "execution_count": null,
   "id": "8d09c7bf-084c-473e-9d16-5416bb99eca5",
   "metadata": {
    "tags": []
   },
   "outputs": [],
   "source": [
    "combined_labor_df = demo_dummies.copy()\n",
    "combined_labor_df.info()"
   ]
  },
  {
   "cell_type": "code",
   "execution_count": null,
   "id": "89861012-99d9-49be-9dc5-1ab248a59190",
   "metadata": {
    "tags": []
   },
   "outputs": [],
   "source": [
    "combined_labor_df.columns.to_list()"
   ]
  },
  {
   "cell_type": "markdown",
   "id": "29ce7a5e-16fd-45e0-9fcd-f5861ff3e516",
   "metadata": {},
   "source": [
    "#### Rename variables to be easier to interpret (suggest abbreviating or adding prefix or suffice to Q#)"
   ]
  },
  {
   "cell_type": "code",
   "execution_count": null,
   "id": "3e47369d-53e9-4195-8a47-aba0d21d122b",
   "metadata": {},
   "outputs": [],
   "source": []
  },
  {
   "cell_type": "markdown",
   "id": "897d7b17-6542-4bf6-9a04-1a3107f62057",
   "metadata": {},
   "source": [
    "## Correlation Matrix\n",
    "\n",
    "#### Creat a correlation matric in the form of a heatmap."
   ]
  },
  {
   "cell_type": "code",
   "execution_count": null,
   "id": "51ff499e-76a6-4e46-aa24-6a860914042c",
   "metadata": {
    "tags": []
   },
   "outputs": [],
   "source": [
    "\n",
    "# Select the columns you need for Matrix\n",
    "selected_columns = ['Q85',\n",
    " 'Q86',\n",
    " 'Q87',\n",
    " 'Q88',\n",
    " 'Q89',\n",
    " 'Q2',\n",
    " 'Q3',\n",
    " 'Q4',\n",
    " 'Q6',\n",
    " 'Q7',\n",
    " 'Q55',\n",
    " 'Q56',\n",
    " 'Q57',\n",
    " 'Q59',\n",
    " 'Q60',\n",
    " 'Q46',\n",
    " 'Q48',\n",
    " 'Q49',\n",
    " 'Q50',\n",
    " 'Q52',]\n",
    "\n",
    "# Create a new DataFrame with only the selected columns\n",
    "corr_df = combined_labor_df[selected_columns].copy()\n",
    "corr_df"
   ]
  },
  {
   "cell_type": "code",
   "execution_count": null,
   "id": "606dda90-9971-40ff-b579-247447993cdb",
   "metadata": {
    "tags": []
   },
   "outputs": [],
   "source": [
    "\n",
    "# Correlation between different variables (do not include Dummy Variables)\n",
    "# Create a subset df specify the data we need \n",
    "corr = corr_df.corr()\n",
    "#\n",
    "# Set up the matplotlib plot configuration\n",
    "#\n",
    "f, ax = plt.subplots(figsize=(24, 20))\n",
    "#\n",
    "# Generate a mask for upper traingle\n",
    "#\n",
    "mask = np.triu(np.ones_like(corr, dtype=bool))\n",
    "#\n",
    "# Configure a custom diverging colormap\n",
    "#\n",
    "cmap = sns.diverging_palette(230, 20, as_cmap=True)\n",
    "#\n",
    "# Draw the heatmap\n",
    "#\n",
    "sns.heatmap(corr, annot=True, mask = mask, cmap=cmap)"
   ]
  },
  {
   "cell_type": "markdown",
   "id": "232ad5b4-2748-4124-9b59-2759ec0c50a3",
   "metadata": {},
   "source": [
    "#### Identify any variables that are correlated more than .8"
   ]
  },
  {
   "cell_type": "code",
   "execution_count": null,
   "id": "402bdaaf-1f51-4a48-83a4-8587355c8304",
   "metadata": {
    "tags": []
   },
   "outputs": [],
   "source": [
    "#Identify any variables that are correlated more than .8\n",
    "#Export Correlation to a DF\n",
    "corr = corr_df.corr()\n",
    "corr_matrix_df = pd.DataFrame(corr)\n",
    "corr_matrix_df\n"
   ]
  },
  {
   "cell_type": "code",
   "execution_count": null,
   "id": "86fb60bd-a074-44a0-b650-fcf0f6f0c251",
   "metadata": {
    "tags": []
   },
   "outputs": [],
   "source": [
    "# Loop over bottom diagonal of correlation matrix\n",
    "for i in range(len(corr_matrix_df.columns)):\n",
    "    for j in range(i):\n",
    "\n",
    "        # Print variables with high correlation\n",
    "        if abs(corr_matrix_df.iloc[i, j]) > 0.8:\n",
    "            print(corr_matrix_df.columns[i], corr_matrix_df.columns[j], corr_matrix_df.iloc[i, j])\n",
    "\n"
   ]
  },
  {
   "cell_type": "markdown",
   "id": "c783436c-4ad8-4ebe-a4a1-8bb394315eb9",
   "metadata": {},
   "source": [
    "####    Either drop one (or more if several all highly correlated) or average them and create a new variable. For the variables that are grouped together in the codebook, it is more likely that they will highly correlate with each other. If this is the case, you can decide whether you want to take the average of those questions and just use the composite variable."
   ]
  },
  {
   "cell_type": "code",
   "execution_count": null,
   "id": "da4b5dc4-5e70-4bc2-b494-80830ed3b1b4",
   "metadata": {
    "tags": []
   },
   "outputs": [],
   "source": [
    "#if you find a dataset that is strongly correlated you can collapse into a set by averaging\n",
    "\n",
    "combined_labor_df['Q86_85']=(combined_labor_df['Q86']+combined_labor_df['Q85'])/2\n",
    "combined_labor_df['Q60_55']=(combined_labor_df['Q60']+combined_labor_df['Q55'])/2\n",
    "combined_labor_df['Q48_49_50_52']=(combined_labor_df['Q48']+combined_labor_df['Q49'])+(combined_labor_df['Q50']+combined_labor_df['Q52'])/4\n"
   ]
  },
  {
   "cell_type": "code",
   "execution_count": null,
   "id": "be4df265-964e-4284-89e9-b4e56f86d0b4",
   "metadata": {
    "tags": []
   },
   "outputs": [],
   "source": [
    "combined_labor_df.columns.to_list()"
   ]
  },
  {
   "cell_type": "code",
   "execution_count": null,
   "id": "de7da157-dc13-4257-bee0-12f9a404abd8",
   "metadata": {
    "tags": []
   },
   "outputs": [],
   "source": [
    "reduced_labor_df_corr = combined_labor_df[[\n",
    " 'Q86_85',\n",
    " 'Q87',\n",
    " 'Q88',\n",
    " 'Q89',\n",
    " 'Q2',\n",
    " 'Q3',\n",
    " 'Q4',\n",
    " 'Q6',\n",
    " 'Q7',\n",
    " 'Q56',\n",
    " 'Q57',\n",
    " 'Q59',\n",
    " 'Q60_55',\n",
    " 'Q46',\n",
    " 'Q48_49_50_52']]"
   ]
  },
  {
   "cell_type": "markdown",
   "id": "dc20ff0f-a939-42bb-ba70-e307bf595bdf",
   "metadata": {},
   "source": [
    "#### Once you have dropped and variables and/or created composites, create a new correlation matrix."
   ]
  },
  {
   "cell_type": "code",
   "execution_count": null,
   "id": "3d9dbdde-c794-426e-8d8b-b7898124959a",
   "metadata": {
    "tags": []
   },
   "outputs": [],
   "source": [
    "\n",
    "# Correlation between different variables (do not include Dummy Variables)\n",
    "# Create a subset df specify the data we need \n",
    "corr = reduced_labor_df_corr.corr()\n",
    "#\n",
    "# Set up the matplotlib plot configuration\n",
    "#\n",
    "f, ax = plt.subplots(figsize=(24, 20))\n",
    "#\n",
    "# Generate a mask for upper traingle\n",
    "#\n",
    "mask = np.triu(np.ones_like(corr, dtype=bool))\n",
    "#\n",
    "# Configure a custom diverging colormap\n",
    "#\n",
    "cmap = sns.diverging_palette(230, 20, as_cmap=True)\n",
    "#\n",
    "# Draw the heatmap\n",
    "#\n",
    "sns.heatmap(corr, annot=True, mask = mask, cmap=cmap)"
   ]
  },
  {
   "cell_type": "markdown",
   "id": "dfd02be4-c20e-4b48-955e-fc89dd891b04",
   "metadata": {},
   "source": [
    "##### Split your data in training and test sets. When doing this remember to set the random seed to a number that you will keep constant."
   ]
  },
  {
   "cell_type": "code",
   "execution_count": null,
   "id": "82e0da3f-1429-42b7-a75a-dd080c9c370d",
   "metadata": {
    "tags": []
   },
   "outputs": [],
   "source": [
    "combined_labor_df.columns.to_list()"
   ]
  },
  {
   "cell_type": "markdown",
   "id": "a9d7305f-b520-4b03-8d35-843e8c9c535d",
   "metadata": {},
   "source": [
    "#### Step 1: Create the labels set (`y`)  from the “DLEAVING” column, and then create the features (`X`) DataFrame from the remaining columns."
   ]
  },
  {
   "cell_type": "code",
   "execution_count": null,
   "id": "2db03583-27b8-4ede-bebf-f857a8587318",
   "metadata": {},
   "outputs": [],
   "source": [
    "# Separate the data into labels and features\n",
    "\n",
    "# Separate the y variable, the labels\n",
    "y = combined_labor_df['DLEAVING']\n",
    "\n",
    "# Separate the X variable, the features\n",
    "X = combined_labor_df.drop(columns=['DLEAVING', 'Q48', 'Q49', 'Q50','Q60', 'Q85', 'Q86','Q52','Q55','DRNO_D','DHISP_B', 'DDIS_B','DAGEGRP_B', 'DSUPER_B','DFEDTEN_C','DSEX_B','DMIL_B'])"
   ]
  },
  {
   "cell_type": "code",
   "execution_count": null,
   "id": "20e7d386-5e40-4271-9f95-7d10cb529d45",
   "metadata": {},
   "outputs": [],
   "source": [
    "# Review the y variable Series\n",
    "y[:5]"
   ]
  },
  {
   "cell_type": "code",
   "execution_count": null,
   "id": "dd2a441a-1516-4f32-b58a-e7da38616374",
   "metadata": {},
   "outputs": [],
   "source": [
    "# Review the X variable DataFrame\n",
    "X.head()"
   ]
  },
  {
   "cell_type": "markdown",
   "id": "d92baf05-9ab6-47e4-a2ef-5472fdb6ad92",
   "metadata": {},
   "source": [
    "#### Step 2: Check the balance of the labels variable (`y`) by using the `value_counts` function."
   ]
  },
  {
   "cell_type": "code",
   "execution_count": null,
   "id": "020bb890-3340-43a4-a8dc-bb3df9fbda3f",
   "metadata": {},
   "outputs": [],
   "source": [
    "# Check the balance of our target values\n",
    "y.value_counts()"
   ]
  },
  {
   "cell_type": "markdown",
   "id": "b862914b-f3af-41a2-bf8c-b9a11132c4d9",
   "metadata": {},
   "source": [
    "#### Step 3: Split the data into training and testing datasets by using `train_test_split`."
   ]
  },
  {
   "cell_type": "code",
   "execution_count": null,
   "id": "4c328a62-72dd-4769-818d-100b8bce7ddc",
   "metadata": {},
   "outputs": [],
   "source": [
    "# Split the data using train_test_split\n",
    "# Assign a random_state of 1 to the function\n",
    "X_train, X_test, y_train, y_test = train_test_split(X, y, random_state=1)"
   ]
  },
  {
   "cell_type": "markdown",
   "id": "ae634992-f5ff-46f4-8628-a62d1e0570e9",
   "metadata": {},
   "source": [
    "## Logistic Regresssion\n"
   ]
  },
  {
   "cell_type": "markdown",
   "id": "d7f53d23-6b7a-4986-9ffe-f151b6239d08",
   "metadata": {},
   "source": [
    "---\n",
    "### Part 1"
   ]
  },
  {
   "cell_type": "markdown",
   "id": "1dbed716-bfb7-4f08-8f7d-214e30ba6fd8",
   "metadata": {},
   "source": [
    "##### Create a Logistic Regression Model "
   ]
  },
  {
   "cell_type": "markdown",
   "id": "06d1e773-845b-478e-90b1-4fc8c5135a66",
   "metadata": {},
   "source": [
    "####  Run a logistic regression on the training data (`X_train` and `y_train`) setting the penalty parameter to ‘None’ in SKLearn.\n",
    "---"
   ]
  },
  {
   "cell_type": "code",
   "execution_count": null,
   "id": "47b7d383-f133-48d5-a612-fb4509ea264e",
   "metadata": {},
   "outputs": [],
   "source": [
    "# Instantiate the Logistic Regression model\n",
    "lr_classifier = LogisticRegression(penalty=None, solver='lbfgs', random_state=1)\n",
    "\n"
   ]
  },
  {
   "cell_type": "code",
   "execution_count": null,
   "id": "0a9e79ac-518b-43b7-927e-3211217d798c",
   "metadata": {
    "tags": []
   },
   "outputs": [],
   "source": [
    "# Fit the model on the test data\n",
    "lr_classifier.fit(X_train, y_train)"
   ]
  },
  {
   "cell_type": "markdown",
   "id": "068acc89-f587-479f-aabe-4c79c92c343b",
   "metadata": {},
   "source": [
    "#### Save the predictions on the testing data labels by using the testing feature data (`X_test`) and the fitted model."
   ]
  },
  {
   "cell_type": "code",
   "execution_count": null,
   "id": "e4102d74-71ce-45b6-9337-e344243c0ef7",
   "metadata": {},
   "outputs": [],
   "source": [
    "# Make a prediction using the testing data\n",
    "predictions = lr_classifier.predict(X_test)\n",
    "results = pd.DataFrame({\"Prediction\": predictions, \"Actual\": y_test}).reset_index(drop=True)\n",
    "results.head(10)"
   ]
  },
  {
   "cell_type": "markdown",
   "id": "506f2f6d-aec4-4aac-bcdd-2ccd005b4fcf",
   "metadata": {},
   "source": [
    "### Evaluate the model’s performance: Generate a confusion matrix.\n"
   ]
  },
  {
   "cell_type": "code",
   "execution_count": null,
   "id": "22c6636c-cb4d-4faa-a91f-c78786a6f0cc",
   "metadata": {
    "jupyter": {
     "source_hidden": true
    },
    "tags": []
   },
   "outputs": [],
   "source": [
    "# Print the balanced_accuracy score of the model\n",
    "# Display the accuracy score for the test dataset.\n",
    "balanced_accuracy = accuracy_score(y_test, predictions)\n",
    "print(balanced_accuracy)"
   ]
  },
  {
   "cell_type": "code",
   "execution_count": null,
   "id": "0d215012-ec9b-41ce-a4b2-33e64ac8312e",
   "metadata": {},
   "outputs": [],
   "source": [
    "# Generate a confusion matrix for the model\n",
    "lr_cm = confusion_matrix(y_test, predictions)\n",
    "lr_cm_df = pd.DataFrame(\n",
    "    lr_cm, index=[\"Actual 0\", \"Actual 1\"], columns=[\"Predicted 0\", \"Predicted 1\"]\n",
    ")\n",
    "print(\"Confusion Matrix\")\n",
    "display(lr_cm_df)"
   ]
  },
  {
   "cell_type": "code",
   "execution_count": null,
   "id": "7ca8f4c6-dcaa-42f7-87e4-5231ae558c28",
   "metadata": {
    "jupyter": {
     "source_hidden": true
    },
    "tags": []
   },
   "outputs": [],
   "source": [
    "# Print the classification report for the model\n",
    "print(\"Classification Report\")\n",
    "print(classification_report(y_test, predictions))"
   ]
  },
  {
   "cell_type": "markdown",
   "id": "62623dba-62e3-4b2e-a07a-eb6353205a0b",
   "metadata": {},
   "source": [
    "### Part 2\n"
   ]
  },
  {
   "cell_type": "code",
   "execution_count": null,
   "id": "509c828f-c143-469d-9ceb-c3beb6f63bcb",
   "metadata": {
    "tags": []
   },
   "outputs": [],
   "source": [
    "# Run a second logistic regression model setting the penalty parament to 'l2'\n",
    "# Instantiate the Logistic Regression model\n",
    "lr_classifier2 = LogisticRegression(penalty='l2', solver='lbfgs', random_state=1)"
   ]
  },
  {
   "cell_type": "code",
   "execution_count": null,
   "id": "129dc370-4c84-450a-978a-5be769712b9a",
   "metadata": {
    "tags": []
   },
   "outputs": [],
   "source": [
    "# Fit the model on the test data\n",
    "lr_classifier2.fit(X_train, y_train)"
   ]
  },
  {
   "cell_type": "code",
   "execution_count": null,
   "id": "4dddfd88-6da4-495f-9764-fb476f44ed6c",
   "metadata": {
    "tags": []
   },
   "outputs": [],
   "source": [
    "# Generate a confusion matrix for the model\n",
    "lr_cm2 = confusion_matrix(y_test, predictions)\n",
    "lr_cm_df2 = pd.DataFrame(\n",
    "    lr_cm2, index=[\"Actual 0\", \"Actual 1\"], columns=[\"Predicted 0\", \"Predicted 1\"]\n",
    ")\n",
    "print(\"Confusion Matrix\")\n",
    "display(lr_cm_df2)"
   ]
  },
  {
   "cell_type": "markdown",
   "id": "533935e7-f3ad-4abd-8718-e1f3c9d1f575",
   "metadata": {},
   "source": [
    "#### Random Forest"
   ]
  },
  {
   "cell_type": "code",
   "execution_count": null,
   "id": "3440b99f-cd7d-44e2-9c06-431e18cc3df1",
   "metadata": {},
   "outputs": [],
   "source": [
    "# Creating StandardScaler instance\n",
    "scaler = StandardScaler()"
   ]
  },
  {
   "cell_type": "code",
   "execution_count": null,
   "id": "f55fe90e-97a3-4e05-b88b-0ab4a054d640",
   "metadata": {},
   "outputs": [],
   "source": [
    "# Fitting Standard Scaller\n",
    "X_scaler = scaler.fit(X_train)"
   ]
  },
  {
   "cell_type": "code",
   "execution_count": null,
   "id": "777b49a7-e013-447d-bf4b-b08ba2aab62d",
   "metadata": {},
   "outputs": [],
   "source": [
    " # Scaling data\n",
    "X_train_scaled = X_scaler.transform(X_train)\n",
    "X_test_scaled = X_scaler.transform(X_test)"
   ]
  },
  {
   "cell_type": "code",
   "execution_count": null,
   "id": "40e35855-e777-452b-be9a-afbcd8ade997",
   "metadata": {},
   "outputs": [],
   "source": [
    " # Create a random forest classifier\n",
    "rf_model = RandomForestClassifier(n_estimators=500, random_state=78)"
   ]
  },
  {
   "cell_type": "code",
   "execution_count": null,
   "id": "8eac43a4-56ad-47c5-b5e5-11b749effd40",
   "metadata": {},
   "outputs": [],
   "source": [
    "# Fitting the model\n",
    "rf_model = rf_model.fit(X_train_scaled, y_train)"
   ]
  },
  {
   "cell_type": "code",
   "execution_count": null,
   "id": "b44664c9-c904-4c14-84e3-584bc07a1895",
   "metadata": {},
   "outputs": [],
   "source": [
    "# Making predictions using the testing data\n",
    "rf_predictions = rf_model.predict(X_test_scaled)"
   ]
  },
  {
   "cell_type": "code",
   "execution_count": null,
   "id": "ba30bad1-f9a8-432e-946f-b56a6238d42f",
   "metadata": {},
   "outputs": [],
   "source": [
    "# Calculating the confusion matrix\n",
    "rf_cm = confusion_matrix(y_test, rf_predictions)\n",
    "rf_cm_df = pd.DataFrame(\n",
    "    rf_cm, index=[\"Actual 0\", \"Actual 1\"], columns=[\"Predicted 0\", \"Predicted 1\"]\n",
    ")"
   ]
  },
  {
   "cell_type": "code",
   "execution_count": null,
   "id": "fe78ec09-580f-4f6e-a429-f239609ae3fa",
   "metadata": {},
   "outputs": [],
   "source": []
  },
  {
   "cell_type": "markdown",
   "id": "2dd66206-94c9-4d4e-bd1e-c5b599b989ea",
   "metadata": {},
   "source": [
    "### Compare best logistic regression model with random forest\n",
    "----"
   ]
  },
  {
   "cell_type": "markdown",
   "id": "e83eb489-79b0-4e2c-a024-9c5c1fb1e4c4",
   "metadata": {},
   "source": [
    "### Visualize the Best Model\n"
   ]
  },
  {
   "cell_type": "markdown",
   "id": "f0888d0a-aff5-4abe-a421-a2253e19f85d",
   "metadata": {},
   "source": [
    "---"
   ]
  },
  {
   "cell_type": "code",
   "execution_count": null,
   "id": "ecd0d296-9792-4820-9578-440d770ef696",
   "metadata": {
    "tags": []
   },
   "outputs": [],
   "source": [
    "shap.initjs()"
   ]
  },
  {
   "cell_type": "code",
   "execution_count": null,
   "id": "b01d5aa6-4420-4abb-a00e-f15130c7443d",
   "metadata": {
    "tags": []
   },
   "outputs": [],
   "source": [
    "#Setting up SHAP Explainer\n",
    "explainer = shap.Explainer(lr_classifier)\n",
    "shap_values = explainer.shap_values(X_test)"
   ]
  },
  {
   "cell_type": "code",
   "execution_count": null,
   "id": "db62a4a3-3d58-4de1-b04c-3e1e52dbc624",
   "metadata": {
    "tags": []
   },
   "outputs": [],
   "source": [
    "shap.summary_plot(shap_values, X_test)"
   ]
  },
  {
   "cell_type": "markdown",
   "id": "57a05df1-51f8-4b5a-a3d5-2b7c5251919a",
   "metadata": {},
   "source": [
    "# Test with data from other Commerce Dept\n",
    "----"
   ]
  },
  {
   "cell_type": "markdown",
   "id": "c0baf61c-0183-45c8-82b6-ed485de989ca",
   "metadata": {},
   "source": [
    "#### Select Department of Labor dataframe and generate counts for each value and plot in bar charts along with the count values."
   ]
  },
  {
   "cell_type": "code",
   "execution_count": null,
   "id": "f5c127d0-68f1-442f-8294-73dafade06c3",
   "metadata": {},
   "outputs": [],
   "source": []
  },
  {
   "cell_type": "markdown",
   "id": "619f301c-f36b-4e91-94da-c04811af44d8",
   "metadata": {},
   "source": [
    "## Recode any variables where this is necessary. "
   ]
  },
  {
   "cell_type": "code",
   "execution_count": 3,
   "id": "59971eb3-9dcf-4ec6-af50-1b9d2901be8c",
   "metadata": {
    "tags": []
   },
   "outputs": [],
   "source": [
    "#Drop the columns that aren't necessary for the project as defined in the instructions\n",
    "\n",
    "df_commerce_relevant = df_commerce[['RandomID', 'Q85', 'Q86', 'Q87', 'Q88', 'Q89', 'Q2', 'Q3', 'Q4', 'Q6', 'Q7', 'Q84', 'Q55', 'Q56', 'Q57', 'Q59', 'Q60', 'Q46', 'Q48', 'Q49', 'Q50', 'Q52', 'DRNO', 'DHISP', 'DDIS', 'DAGEGRP', 'DSUPER', 'DFEDTEN', 'DSEX', 'DMIL', 'DLEAVING']].copy()\n"
   ]
  },
  {
   "cell_type": "markdown",
   "id": "25ef67da-75ed-40e8-a6e2-cb6802f6d2e5",
   "metadata": {},
   "source": [
    "### Deal With Missing Values\n",
    "#### Identify and rows where a large number of responses are blank. Drop these rows."
   ]
  },
  {
   "cell_type": "code",
   "execution_count": 4,
   "id": "39b229e5-8132-4bb9-a3ec-eb2d06df9522",
   "metadata": {},
   "outputs": [
    {
     "data": {
      "text/html": [
       "<div>\n",
       "<style scoped>\n",
       "    .dataframe tbody tr th:only-of-type {\n",
       "        vertical-align: middle;\n",
       "    }\n",
       "\n",
       "    .dataframe tbody tr th {\n",
       "        vertical-align: top;\n",
       "    }\n",
       "\n",
       "    .dataframe thead th {\n",
       "        text-align: right;\n",
       "    }\n",
       "</style>\n",
       "<table border=\"1\" class=\"dataframe\">\n",
       "  <thead>\n",
       "    <tr style=\"text-align: right;\">\n",
       "      <th></th>\n",
       "      <th>RandomID</th>\n",
       "      <th>Q85</th>\n",
       "      <th>Q86</th>\n",
       "      <th>Q87</th>\n",
       "      <th>Q88</th>\n",
       "      <th>Q89</th>\n",
       "      <th>Q2</th>\n",
       "      <th>Q3</th>\n",
       "      <th>Q4</th>\n",
       "      <th>Q6</th>\n",
       "      <th>...</th>\n",
       "      <th>DRNO</th>\n",
       "      <th>DHISP</th>\n",
       "      <th>DDIS</th>\n",
       "      <th>DAGEGRP</th>\n",
       "      <th>DSUPER</th>\n",
       "      <th>DFEDTEN</th>\n",
       "      <th>DSEX</th>\n",
       "      <th>DMIL</th>\n",
       "      <th>DLEAVING</th>\n",
       "      <th>row_missing_percent</th>\n",
       "    </tr>\n",
       "  </thead>\n",
       "  <tbody>\n",
       "    <tr>\n",
       "      <th>0</th>\n",
       "      <td>171638000000</td>\n",
       "      <td>NaN</td>\n",
       "      <td>NaN</td>\n",
       "      <td>3.0</td>\n",
       "      <td>4.0</td>\n",
       "      <td>4.0</td>\n",
       "      <td>2.0</td>\n",
       "      <td>4.0</td>\n",
       "      <td>4.0</td>\n",
       "      <td>3.0</td>\n",
       "      <td>...</td>\n",
       "      <td>NaN</td>\n",
       "      <td>NaN</td>\n",
       "      <td>NaN</td>\n",
       "      <td>NaN</td>\n",
       "      <td>NaN</td>\n",
       "      <td>NaN</td>\n",
       "      <td>NaN</td>\n",
       "      <td>NaN</td>\n",
       "      <td>NaN</td>\n",
       "      <td>0.387097</td>\n",
       "    </tr>\n",
       "    <tr>\n",
       "      <th>4</th>\n",
       "      <td>118318000000</td>\n",
       "      <td>NaN</td>\n",
       "      <td>5.0</td>\n",
       "      <td>4.0</td>\n",
       "      <td>4.0</td>\n",
       "      <td>5.0</td>\n",
       "      <td>3.0</td>\n",
       "      <td>4.0</td>\n",
       "      <td>4.0</td>\n",
       "      <td>4.0</td>\n",
       "      <td>...</td>\n",
       "      <td>B</td>\n",
       "      <td>B</td>\n",
       "      <td>B</td>\n",
       "      <td>B</td>\n",
       "      <td>B</td>\n",
       "      <td>C</td>\n",
       "      <td>A</td>\n",
       "      <td>B</td>\n",
       "      <td>A</td>\n",
       "      <td>0.032258</td>\n",
       "    </tr>\n",
       "    <tr>\n",
       "      <th>7</th>\n",
       "      <td>193837000000</td>\n",
       "      <td>3.0</td>\n",
       "      <td>4.0</td>\n",
       "      <td>4.0</td>\n",
       "      <td>3.0</td>\n",
       "      <td>3.0</td>\n",
       "      <td>4.0</td>\n",
       "      <td>4.0</td>\n",
       "      <td>5.0</td>\n",
       "      <td>5.0</td>\n",
       "      <td>...</td>\n",
       "      <td>NaN</td>\n",
       "      <td>NaN</td>\n",
       "      <td>NaN</td>\n",
       "      <td>NaN</td>\n",
       "      <td>A</td>\n",
       "      <td>NaN</td>\n",
       "      <td>NaN</td>\n",
       "      <td>B</td>\n",
       "      <td>NaN</td>\n",
       "      <td>0.225806</td>\n",
       "    </tr>\n",
       "    <tr>\n",
       "      <th>12</th>\n",
       "      <td>162473000000</td>\n",
       "      <td>5.0</td>\n",
       "      <td>4.0</td>\n",
       "      <td>3.0</td>\n",
       "      <td>4.0</td>\n",
       "      <td>5.0</td>\n",
       "      <td>5.0</td>\n",
       "      <td>4.0</td>\n",
       "      <td>5.0</td>\n",
       "      <td>4.0</td>\n",
       "      <td>...</td>\n",
       "      <td>B</td>\n",
       "      <td>B</td>\n",
       "      <td>NaN</td>\n",
       "      <td>B</td>\n",
       "      <td>A</td>\n",
       "      <td>B</td>\n",
       "      <td>NaN</td>\n",
       "      <td>B</td>\n",
       "      <td>B</td>\n",
       "      <td>0.064516</td>\n",
       "    </tr>\n",
       "    <tr>\n",
       "      <th>13</th>\n",
       "      <td>135041000000</td>\n",
       "      <td>3.0</td>\n",
       "      <td>4.0</td>\n",
       "      <td>2.0</td>\n",
       "      <td>3.0</td>\n",
       "      <td>4.0</td>\n",
       "      <td>3.0</td>\n",
       "      <td>3.0</td>\n",
       "      <td>4.0</td>\n",
       "      <td>NaN</td>\n",
       "      <td>...</td>\n",
       "      <td>B</td>\n",
       "      <td>B</td>\n",
       "      <td>B</td>\n",
       "      <td>B</td>\n",
       "      <td>A</td>\n",
       "      <td>B</td>\n",
       "      <td>A</td>\n",
       "      <td>A</td>\n",
       "      <td>C</td>\n",
       "      <td>0.032258</td>\n",
       "    </tr>\n",
       "    <tr>\n",
       "      <th>...</th>\n",
       "      <td>...</td>\n",
       "      <td>...</td>\n",
       "      <td>...</td>\n",
       "      <td>...</td>\n",
       "      <td>...</td>\n",
       "      <td>...</td>\n",
       "      <td>...</td>\n",
       "      <td>...</td>\n",
       "      <td>...</td>\n",
       "      <td>...</td>\n",
       "      <td>...</td>\n",
       "      <td>...</td>\n",
       "      <td>...</td>\n",
       "      <td>...</td>\n",
       "      <td>...</td>\n",
       "      <td>...</td>\n",
       "      <td>...</td>\n",
       "      <td>...</td>\n",
       "      <td>...</td>\n",
       "      <td>...</td>\n",
       "      <td>...</td>\n",
       "    </tr>\n",
       "    <tr>\n",
       "      <th>20985</th>\n",
       "      <td>182796000000</td>\n",
       "      <td>4.0</td>\n",
       "      <td>4.0</td>\n",
       "      <td>NaN</td>\n",
       "      <td>NaN</td>\n",
       "      <td>4.0</td>\n",
       "      <td>4.0</td>\n",
       "      <td>4.0</td>\n",
       "      <td>4.0</td>\n",
       "      <td>4.0</td>\n",
       "      <td>...</td>\n",
       "      <td>B</td>\n",
       "      <td>A</td>\n",
       "      <td>B</td>\n",
       "      <td>B</td>\n",
       "      <td>B</td>\n",
       "      <td>A</td>\n",
       "      <td>B</td>\n",
       "      <td>B</td>\n",
       "      <td>A</td>\n",
       "      <td>0.129032</td>\n",
       "    </tr>\n",
       "    <tr>\n",
       "      <th>20993</th>\n",
       "      <td>177891000000</td>\n",
       "      <td>NaN</td>\n",
       "      <td>NaN</td>\n",
       "      <td>NaN</td>\n",
       "      <td>NaN</td>\n",
       "      <td>NaN</td>\n",
       "      <td>3.0</td>\n",
       "      <td>4.0</td>\n",
       "      <td>4.0</td>\n",
       "      <td>NaN</td>\n",
       "      <td>...</td>\n",
       "      <td>NaN</td>\n",
       "      <td>NaN</td>\n",
       "      <td>NaN</td>\n",
       "      <td>NaN</td>\n",
       "      <td>NaN</td>\n",
       "      <td>NaN</td>\n",
       "      <td>NaN</td>\n",
       "      <td>NaN</td>\n",
       "      <td>NaN</td>\n",
       "      <td>0.838710</td>\n",
       "    </tr>\n",
       "    <tr>\n",
       "      <th>20995</th>\n",
       "      <td>143166000000</td>\n",
       "      <td>NaN</td>\n",
       "      <td>NaN</td>\n",
       "      <td>NaN</td>\n",
       "      <td>NaN</td>\n",
       "      <td>NaN</td>\n",
       "      <td>4.0</td>\n",
       "      <td>4.0</td>\n",
       "      <td>4.0</td>\n",
       "      <td>3.0</td>\n",
       "      <td>...</td>\n",
       "      <td>NaN</td>\n",
       "      <td>NaN</td>\n",
       "      <td>NaN</td>\n",
       "      <td>NaN</td>\n",
       "      <td>NaN</td>\n",
       "      <td>NaN</td>\n",
       "      <td>NaN</td>\n",
       "      <td>NaN</td>\n",
       "      <td>NaN</td>\n",
       "      <td>0.806452</td>\n",
       "    </tr>\n",
       "    <tr>\n",
       "      <th>20999</th>\n",
       "      <td>110575000000</td>\n",
       "      <td>NaN</td>\n",
       "      <td>NaN</td>\n",
       "      <td>NaN</td>\n",
       "      <td>NaN</td>\n",
       "      <td>NaN</td>\n",
       "      <td>3.0</td>\n",
       "      <td>4.0</td>\n",
       "      <td>4.0</td>\n",
       "      <td>4.0</td>\n",
       "      <td>...</td>\n",
       "      <td>C</td>\n",
       "      <td>B</td>\n",
       "      <td>B</td>\n",
       "      <td>A</td>\n",
       "      <td>A</td>\n",
       "      <td>A</td>\n",
       "      <td>A</td>\n",
       "      <td>B</td>\n",
       "      <td>A</td>\n",
       "      <td>0.161290</td>\n",
       "    </tr>\n",
       "    <tr>\n",
       "      <th>21008</th>\n",
       "      <td>116471000000</td>\n",
       "      <td>NaN</td>\n",
       "      <td>NaN</td>\n",
       "      <td>NaN</td>\n",
       "      <td>NaN</td>\n",
       "      <td>NaN</td>\n",
       "      <td>5.0</td>\n",
       "      <td>4.0</td>\n",
       "      <td>5.0</td>\n",
       "      <td>3.0</td>\n",
       "      <td>...</td>\n",
       "      <td>NaN</td>\n",
       "      <td>NaN</td>\n",
       "      <td>NaN</td>\n",
       "      <td>NaN</td>\n",
       "      <td>NaN</td>\n",
       "      <td>NaN</td>\n",
       "      <td>NaN</td>\n",
       "      <td>NaN</td>\n",
       "      <td>NaN</td>\n",
       "      <td>0.806452</td>\n",
       "    </tr>\n",
       "  </tbody>\n",
       "</table>\n",
       "<p>5361 rows × 32 columns</p>\n",
       "</div>"
      ],
      "text/plain": [
       "           RandomID  Q85  Q86  Q87  Q88  Q89   Q2   Q3   Q4   Q6  ...  DRNO  \\\n",
       "0      171638000000  NaN  NaN  3.0  4.0  4.0  2.0  4.0  4.0  3.0  ...   NaN   \n",
       "4      118318000000  NaN  5.0  4.0  4.0  5.0  3.0  4.0  4.0  4.0  ...     B   \n",
       "7      193837000000  3.0  4.0  4.0  3.0  3.0  4.0  4.0  5.0  5.0  ...   NaN   \n",
       "12     162473000000  5.0  4.0  3.0  4.0  5.0  5.0  4.0  5.0  4.0  ...     B   \n",
       "13     135041000000  3.0  4.0  2.0  3.0  4.0  3.0  3.0  4.0  NaN  ...     B   \n",
       "...             ...  ...  ...  ...  ...  ...  ...  ...  ...  ...  ...   ...   \n",
       "20985  182796000000  4.0  4.0  NaN  NaN  4.0  4.0  4.0  4.0  4.0  ...     B   \n",
       "20993  177891000000  NaN  NaN  NaN  NaN  NaN  3.0  4.0  4.0  NaN  ...   NaN   \n",
       "20995  143166000000  NaN  NaN  NaN  NaN  NaN  4.0  4.0  4.0  3.0  ...   NaN   \n",
       "20999  110575000000  NaN  NaN  NaN  NaN  NaN  3.0  4.0  4.0  4.0  ...     C   \n",
       "21008  116471000000  NaN  NaN  NaN  NaN  NaN  5.0  4.0  5.0  3.0  ...   NaN   \n",
       "\n",
       "      DHISP DDIS DAGEGRP DSUPER DFEDTEN DSEX DMIL  DLEAVING  \\\n",
       "0       NaN  NaN     NaN    NaN     NaN  NaN  NaN       NaN   \n",
       "4         B    B       B      B       C    A    B         A   \n",
       "7       NaN  NaN     NaN      A     NaN  NaN    B       NaN   \n",
       "12        B  NaN       B      A       B  NaN    B         B   \n",
       "13        B    B       B      A       B    A    A         C   \n",
       "...     ...  ...     ...    ...     ...  ...  ...       ...   \n",
       "20985     A    B       B      B       A    B    B         A   \n",
       "20993   NaN  NaN     NaN    NaN     NaN  NaN  NaN       NaN   \n",
       "20995   NaN  NaN     NaN    NaN     NaN  NaN  NaN       NaN   \n",
       "20999     B    B       A      A       A    A    B         A   \n",
       "21008   NaN  NaN     NaN    NaN     NaN  NaN  NaN       NaN   \n",
       "\n",
       "       row_missing_percent  \n",
       "0                 0.387097  \n",
       "4                 0.032258  \n",
       "7                 0.225806  \n",
       "12                0.064516  \n",
       "13                0.032258  \n",
       "...                    ...  \n",
       "20985             0.129032  \n",
       "20993             0.838710  \n",
       "20995             0.806452  \n",
       "20999             0.161290  \n",
       "21008             0.806452  \n",
       "\n",
       "[5361 rows x 32 columns]"
      ]
     },
     "execution_count": 4,
     "metadata": {},
     "output_type": "execute_result"
    }
   ],
   "source": [
    "#which rows don't have many answers? take the average of the missing data and get the proportion missing\n",
    "df_commerce_relevant['row_missing_percent']=df_commerce_relevant.isnull().mean(axis=1)\n",
    "df_commerce_relevant[df_commerce_relevant['row_missing_percent']!=0.0]"
   ]
  },
  {
   "cell_type": "code",
   "execution_count": 5,
   "id": "c72a281c-8a95-4a51-98d2-e7ffa407b3d3",
   "metadata": {},
   "outputs": [
    {
     "data": {
      "text/plain": [
       "<Axes: >"
      ]
     },
     "execution_count": 5,
     "metadata": {},
     "output_type": "execute_result"
    },
    {
     "data": {
      "image/png": "[encoded data removed]",
      "text/plain": [
       "<Figure size 640x480 with 1 Axes>"
      ]
     },
     "metadata": {},
     "output_type": "display_data"
    }
   ],
   "source": [
    "#plot histogram to check\n",
    "df_commerce_relevant['row_missing_percent'].hist()"
   ]
  },
  {
   "cell_type": "code",
   "execution_count": 6,
   "id": "b8bd74b5-c18a-4f69-bb8a-2f299b02bf82",
   "metadata": {},
   "outputs": [
    {
     "data": {
      "text/html": [
       "<div>\n",
       "<style scoped>\n",
       "    .dataframe tbody tr th:only-of-type {\n",
       "        vertical-align: middle;\n",
       "    }\n",
       "\n",
       "    .dataframe tbody tr th {\n",
       "        vertical-align: top;\n",
       "    }\n",
       "\n",
       "    .dataframe thead th {\n",
       "        text-align: right;\n",
       "    }\n",
       "</style>\n",
       "<table border=\"1\" class=\"dataframe\">\n",
       "  <thead>\n",
       "    <tr style=\"text-align: right;\">\n",
       "      <th></th>\n",
       "      <th>RandomID</th>\n",
       "      <th>Q85</th>\n",
       "      <th>Q86</th>\n",
       "      <th>Q87</th>\n",
       "      <th>Q88</th>\n",
       "      <th>Q89</th>\n",
       "      <th>Q2</th>\n",
       "      <th>Q3</th>\n",
       "      <th>Q4</th>\n",
       "      <th>Q6</th>\n",
       "      <th>...</th>\n",
       "      <th>DRNO</th>\n",
       "      <th>DHISP</th>\n",
       "      <th>DDIS</th>\n",
       "      <th>DAGEGRP</th>\n",
       "      <th>DSUPER</th>\n",
       "      <th>DFEDTEN</th>\n",
       "      <th>DSEX</th>\n",
       "      <th>DMIL</th>\n",
       "      <th>DLEAVING</th>\n",
       "      <th>row_missing_percent</th>\n",
       "    </tr>\n",
       "  </thead>\n",
       "  <tbody>\n",
       "    <tr>\n",
       "      <th>0</th>\n",
       "      <td>171638000000</td>\n",
       "      <td>NaN</td>\n",
       "      <td>NaN</td>\n",
       "      <td>3.0</td>\n",
       "      <td>4.0</td>\n",
       "      <td>4.0</td>\n",
       "      <td>2.0</td>\n",
       "      <td>4.0</td>\n",
       "      <td>4.0</td>\n",
       "      <td>3.0</td>\n",
       "      <td>...</td>\n",
       "      <td>NaN</td>\n",
       "      <td>NaN</td>\n",
       "      <td>NaN</td>\n",
       "      <td>NaN</td>\n",
       "      <td>NaN</td>\n",
       "      <td>NaN</td>\n",
       "      <td>NaN</td>\n",
       "      <td>NaN</td>\n",
       "      <td>NaN</td>\n",
       "      <td>0.387097</td>\n",
       "    </tr>\n",
       "    <tr>\n",
       "      <th>1</th>\n",
       "      <td>159842000000</td>\n",
       "      <td>4.0</td>\n",
       "      <td>4.0</td>\n",
       "      <td>4.0</td>\n",
       "      <td>4.0</td>\n",
       "      <td>4.0</td>\n",
       "      <td>4.0</td>\n",
       "      <td>5.0</td>\n",
       "      <td>5.0</td>\n",
       "      <td>4.0</td>\n",
       "      <td>...</td>\n",
       "      <td>B</td>\n",
       "      <td>B</td>\n",
       "      <td>B</td>\n",
       "      <td>B</td>\n",
       "      <td>A</td>\n",
       "      <td>B</td>\n",
       "      <td>A</td>\n",
       "      <td>A</td>\n",
       "      <td>B</td>\n",
       "      <td>0.000000</td>\n",
       "    </tr>\n",
       "    <tr>\n",
       "      <th>2</th>\n",
       "      <td>160709000000</td>\n",
       "      <td>4.0</td>\n",
       "      <td>5.0</td>\n",
       "      <td>5.0</td>\n",
       "      <td>5.0</td>\n",
       "      <td>5.0</td>\n",
       "      <td>5.0</td>\n",
       "      <td>5.0</td>\n",
       "      <td>5.0</td>\n",
       "      <td>5.0</td>\n",
       "      <td>...</td>\n",
       "      <td>B</td>\n",
       "      <td>B</td>\n",
       "      <td>B</td>\n",
       "      <td>B</td>\n",
       "      <td>B</td>\n",
       "      <td>C</td>\n",
       "      <td>A</td>\n",
       "      <td>B</td>\n",
       "      <td>A</td>\n",
       "      <td>0.000000</td>\n",
       "    </tr>\n",
       "    <tr>\n",
       "      <th>3</th>\n",
       "      <td>135627000000</td>\n",
       "      <td>2.0</td>\n",
       "      <td>2.0</td>\n",
       "      <td>2.0</td>\n",
       "      <td>4.0</td>\n",
       "      <td>3.0</td>\n",
       "      <td>2.0</td>\n",
       "      <td>3.0</td>\n",
       "      <td>3.0</td>\n",
       "      <td>2.0</td>\n",
       "      <td>...</td>\n",
       "      <td>B</td>\n",
       "      <td>B</td>\n",
       "      <td>A</td>\n",
       "      <td>B</td>\n",
       "      <td>A</td>\n",
       "      <td>C</td>\n",
       "      <td>B</td>\n",
       "      <td>B</td>\n",
       "      <td>A</td>\n",
       "      <td>0.000000</td>\n",
       "    </tr>\n",
       "    <tr>\n",
       "      <th>4</th>\n",
       "      <td>118318000000</td>\n",
       "      <td>NaN</td>\n",
       "      <td>5.0</td>\n",
       "      <td>4.0</td>\n",
       "      <td>4.0</td>\n",
       "      <td>5.0</td>\n",
       "      <td>3.0</td>\n",
       "      <td>4.0</td>\n",
       "      <td>4.0</td>\n",
       "      <td>4.0</td>\n",
       "      <td>...</td>\n",
       "      <td>B</td>\n",
       "      <td>B</td>\n",
       "      <td>B</td>\n",
       "      <td>B</td>\n",
       "      <td>B</td>\n",
       "      <td>C</td>\n",
       "      <td>A</td>\n",
       "      <td>B</td>\n",
       "      <td>A</td>\n",
       "      <td>0.032258</td>\n",
       "    </tr>\n",
       "    <tr>\n",
       "      <th>...</th>\n",
       "      <td>...</td>\n",
       "      <td>...</td>\n",
       "      <td>...</td>\n",
       "      <td>...</td>\n",
       "      <td>...</td>\n",
       "      <td>...</td>\n",
       "      <td>...</td>\n",
       "      <td>...</td>\n",
       "      <td>...</td>\n",
       "      <td>...</td>\n",
       "      <td>...</td>\n",
       "      <td>...</td>\n",
       "      <td>...</td>\n",
       "      <td>...</td>\n",
       "      <td>...</td>\n",
       "      <td>...</td>\n",
       "      <td>...</td>\n",
       "      <td>...</td>\n",
       "      <td>...</td>\n",
       "      <td>...</td>\n",
       "      <td>...</td>\n",
       "    </tr>\n",
       "    <tr>\n",
       "      <th>21003</th>\n",
       "      <td>147105000000</td>\n",
       "      <td>5.0</td>\n",
       "      <td>5.0</td>\n",
       "      <td>4.0</td>\n",
       "      <td>5.0</td>\n",
       "      <td>5.0</td>\n",
       "      <td>4.0</td>\n",
       "      <td>5.0</td>\n",
       "      <td>5.0</td>\n",
       "      <td>4.0</td>\n",
       "      <td>...</td>\n",
       "      <td>A</td>\n",
       "      <td>B</td>\n",
       "      <td>B</td>\n",
       "      <td>A</td>\n",
       "      <td>A</td>\n",
       "      <td>A</td>\n",
       "      <td>A</td>\n",
       "      <td>B</td>\n",
       "      <td>A</td>\n",
       "      <td>0.000000</td>\n",
       "    </tr>\n",
       "    <tr>\n",
       "      <th>21004</th>\n",
       "      <td>165175000000</td>\n",
       "      <td>5.0</td>\n",
       "      <td>5.0</td>\n",
       "      <td>4.0</td>\n",
       "      <td>5.0</td>\n",
       "      <td>5.0</td>\n",
       "      <td>5.0</td>\n",
       "      <td>5.0</td>\n",
       "      <td>3.0</td>\n",
       "      <td>3.0</td>\n",
       "      <td>...</td>\n",
       "      <td>B</td>\n",
       "      <td>B</td>\n",
       "      <td>B</td>\n",
       "      <td>B</td>\n",
       "      <td>A</td>\n",
       "      <td>A</td>\n",
       "      <td>A</td>\n",
       "      <td>B</td>\n",
       "      <td>B</td>\n",
       "      <td>0.000000</td>\n",
       "    </tr>\n",
       "    <tr>\n",
       "      <th>21005</th>\n",
       "      <td>197454000000</td>\n",
       "      <td>5.0</td>\n",
       "      <td>5.0</td>\n",
       "      <td>4.0</td>\n",
       "      <td>4.0</td>\n",
       "      <td>4.0</td>\n",
       "      <td>4.0</td>\n",
       "      <td>5.0</td>\n",
       "      <td>5.0</td>\n",
       "      <td>5.0</td>\n",
       "      <td>...</td>\n",
       "      <td>A</td>\n",
       "      <td>B</td>\n",
       "      <td>B</td>\n",
       "      <td>A</td>\n",
       "      <td>A</td>\n",
       "      <td>A</td>\n",
       "      <td>B</td>\n",
       "      <td>B</td>\n",
       "      <td>A</td>\n",
       "      <td>0.000000</td>\n",
       "    </tr>\n",
       "    <tr>\n",
       "      <th>21006</th>\n",
       "      <td>106631000000</td>\n",
       "      <td>4.0</td>\n",
       "      <td>4.0</td>\n",
       "      <td>4.0</td>\n",
       "      <td>4.0</td>\n",
       "      <td>4.0</td>\n",
       "      <td>4.0</td>\n",
       "      <td>4.0</td>\n",
       "      <td>4.0</td>\n",
       "      <td>4.0</td>\n",
       "      <td>...</td>\n",
       "      <td>C</td>\n",
       "      <td>B</td>\n",
       "      <td>B</td>\n",
       "      <td>A</td>\n",
       "      <td>A</td>\n",
       "      <td>A</td>\n",
       "      <td>B</td>\n",
       "      <td>B</td>\n",
       "      <td>A</td>\n",
       "      <td>0.000000</td>\n",
       "    </tr>\n",
       "    <tr>\n",
       "      <th>21007</th>\n",
       "      <td>152121000000</td>\n",
       "      <td>2.0</td>\n",
       "      <td>4.0</td>\n",
       "      <td>1.0</td>\n",
       "      <td>5.0</td>\n",
       "      <td>5.0</td>\n",
       "      <td>2.0</td>\n",
       "      <td>1.0</td>\n",
       "      <td>5.0</td>\n",
       "      <td>1.0</td>\n",
       "      <td>...</td>\n",
       "      <td>C</td>\n",
       "      <td>B</td>\n",
       "      <td>B</td>\n",
       "      <td>A</td>\n",
       "      <td>A</td>\n",
       "      <td>A</td>\n",
       "      <td>A</td>\n",
       "      <td>B</td>\n",
       "      <td>B</td>\n",
       "      <td>0.000000</td>\n",
       "    </tr>\n",
       "  </tbody>\n",
       "</table>\n",
       "<p>20500 rows × 32 columns</p>\n",
       "</div>"
      ],
      "text/plain": [
       "           RandomID  Q85  Q86  Q87  Q88  Q89   Q2   Q3   Q4   Q6  ...  DRNO  \\\n",
       "0      171638000000  NaN  NaN  3.0  4.0  4.0  2.0  4.0  4.0  3.0  ...   NaN   \n",
       "1      159842000000  4.0  4.0  4.0  4.0  4.0  4.0  5.0  5.0  4.0  ...     B   \n",
       "2      160709000000  4.0  5.0  5.0  5.0  5.0  5.0  5.0  5.0  5.0  ...     B   \n",
       "3      135627000000  2.0  2.0  2.0  4.0  3.0  2.0  3.0  3.0  2.0  ...     B   \n",
       "4      118318000000  NaN  5.0  4.0  4.0  5.0  3.0  4.0  4.0  4.0  ...     B   \n",
       "...             ...  ...  ...  ...  ...  ...  ...  ...  ...  ...  ...   ...   \n",
       "21003  147105000000  5.0  5.0  4.0  5.0  5.0  4.0  5.0  5.0  4.0  ...     A   \n",
       "21004  165175000000  5.0  5.0  4.0  5.0  5.0  5.0  5.0  3.0  3.0  ...     B   \n",
       "21005  197454000000  5.0  5.0  4.0  4.0  4.0  4.0  5.0  5.0  5.0  ...     A   \n",
       "21006  106631000000  4.0  4.0  4.0  4.0  4.0  4.0  4.0  4.0  4.0  ...     C   \n",
       "21007  152121000000  2.0  4.0  1.0  5.0  5.0  2.0  1.0  5.0  1.0  ...     C   \n",
       "\n",
       "      DHISP DDIS DAGEGRP DSUPER DFEDTEN DSEX DMIL  DLEAVING  \\\n",
       "0       NaN  NaN     NaN    NaN     NaN  NaN  NaN       NaN   \n",
       "1         B    B       B      A       B    A    A         B   \n",
       "2         B    B       B      B       C    A    B         A   \n",
       "3         B    A       B      A       C    B    B         A   \n",
       "4         B    B       B      B       C    A    B         A   \n",
       "...     ...  ...     ...    ...     ...  ...  ...       ...   \n",
       "21003     B    B       A      A       A    A    B         A   \n",
       "21004     B    B       B      A       A    A    B         B   \n",
       "21005     B    B       A      A       A    B    B         A   \n",
       "21006     B    B       A      A       A    B    B         A   \n",
       "21007     B    B       A      A       A    A    B         B   \n",
       "\n",
       "       row_missing_percent  \n",
       "0                 0.387097  \n",
       "1                 0.000000  \n",
       "2                 0.000000  \n",
       "3                 0.000000  \n",
       "4                 0.032258  \n",
       "...                    ...  \n",
       "21003             0.000000  \n",
       "21004             0.000000  \n",
       "21005             0.000000  \n",
       "21006             0.000000  \n",
       "21007             0.000000  \n",
       "\n",
       "[20500 rows x 32 columns]"
      ]
     },
     "execution_count": 6,
     "metadata": {},
     "output_type": "execute_result"
    }
   ],
   "source": [
    "# drop rows with %missing more than 50% missing data\n",
    "cutpoint = .5\n",
    "#drop rows w\n",
    "df_commerce_relevant_answered = df_commerce_relevant.loc[df_commerce_relevant['row_missing_percent']<cutpoint]\n",
    "df_commerce_relevant_answered"
   ]
  },
  {
   "cell_type": "code",
   "execution_count": 8,
   "id": "c4203034-cb12-4775-bf2e-c81de0c5dffb",
   "metadata": {
    "tags": []
   },
   "outputs": [
    {
     "ename": "KeyError",
     "evalue": "\"['row_missing_percent'] not found in axis\"",
     "output_type": "error",
     "traceback": [
      "\u001b[0;31m---------------------------------------------------------------------------\u001b[0m",
      "\u001b[0;31mKeyError\u001b[0m                                  Traceback (most recent call last)",
      "Cell \u001b[0;32mIn[8], line 1\u001b[0m\n\u001b[0;32m----> 1\u001b[0m \u001b[43mdf_commerce_relevant_answered\u001b[49m\u001b[38;5;241;43m.\u001b[39;49m\u001b[43mdrop\u001b[49m\u001b[43m(\u001b[49m\u001b[43mlabels\u001b[49m\u001b[38;5;241;43m=\u001b[39;49m\u001b[38;5;124;43m'\u001b[39;49m\u001b[38;5;124;43mrow_missing_percent\u001b[39;49m\u001b[38;5;124;43m'\u001b[39;49m\u001b[43m,\u001b[49m\u001b[43m \u001b[49m\u001b[43maxis\u001b[49m\u001b[38;5;241;43m=\u001b[39;49m\u001b[38;5;241;43m1\u001b[39;49m\u001b[43m,\u001b[49m\u001b[43m \u001b[49m\u001b[43minplace\u001b[49m\u001b[38;5;241;43m=\u001b[39;49m\u001b[38;5;28;43;01mTrue\u001b[39;49;00m\u001b[43m)\u001b[49m\n",
      "File \u001b[0;32m~/anaconda3/envs/dev/lib/python3.10/site-packages/pandas/util/_decorators.py:331\u001b[0m, in \u001b[0;36mdeprecate_nonkeyword_arguments.<locals>.decorate.<locals>.wrapper\u001b[0;34m(*args, **kwargs)\u001b[0m\n\u001b[1;32m    325\u001b[0m \u001b[38;5;28;01mif\u001b[39;00m \u001b[38;5;28mlen\u001b[39m(args) \u001b[38;5;241m>\u001b[39m num_allow_args:\n\u001b[1;32m    326\u001b[0m     warnings\u001b[38;5;241m.\u001b[39mwarn(\n\u001b[1;32m    327\u001b[0m         msg\u001b[38;5;241m.\u001b[39mformat(arguments\u001b[38;5;241m=\u001b[39m_format_argument_list(allow_args)),\n\u001b[1;32m    328\u001b[0m         \u001b[38;5;167;01mFutureWarning\u001b[39;00m,\n\u001b[1;32m    329\u001b[0m         stacklevel\u001b[38;5;241m=\u001b[39mfind_stack_level(),\n\u001b[1;32m    330\u001b[0m     )\n\u001b[0;32m--> 331\u001b[0m \u001b[38;5;28;01mreturn\u001b[39;00m \u001b[43mfunc\u001b[49m\u001b[43m(\u001b[49m\u001b[38;5;241;43m*\u001b[39;49m\u001b[43margs\u001b[49m\u001b[43m,\u001b[49m\u001b[43m \u001b[49m\u001b[38;5;241;43m*\u001b[39;49m\u001b[38;5;241;43m*\u001b[39;49m\u001b[43mkwargs\u001b[49m\u001b[43m)\u001b[49m\n",
      "File \u001b[0;32m~/anaconda3/envs/dev/lib/python3.10/site-packages/pandas/core/frame.py:5399\u001b[0m, in \u001b[0;36mDataFrame.drop\u001b[0;34m(self, labels, axis, index, columns, level, inplace, errors)\u001b[0m\n\u001b[1;32m   5251\u001b[0m \u001b[38;5;129m@deprecate_nonkeyword_arguments\u001b[39m(version\u001b[38;5;241m=\u001b[39m\u001b[38;5;28;01mNone\u001b[39;00m, allowed_args\u001b[38;5;241m=\u001b[39m[\u001b[38;5;124m\"\u001b[39m\u001b[38;5;124mself\u001b[39m\u001b[38;5;124m\"\u001b[39m, \u001b[38;5;124m\"\u001b[39m\u001b[38;5;124mlabels\u001b[39m\u001b[38;5;124m\"\u001b[39m])\n\u001b[1;32m   5252\u001b[0m \u001b[38;5;28;01mdef\u001b[39;00m \u001b[38;5;21mdrop\u001b[39m(  \u001b[38;5;66;03m# type: ignore[override]\u001b[39;00m\n\u001b[1;32m   5253\u001b[0m     \u001b[38;5;28mself\u001b[39m,\n\u001b[0;32m   (...)\u001b[0m\n\u001b[1;32m   5260\u001b[0m     errors: IgnoreRaise \u001b[38;5;241m=\u001b[39m \u001b[38;5;124m\"\u001b[39m\u001b[38;5;124mraise\u001b[39m\u001b[38;5;124m\"\u001b[39m,\n\u001b[1;32m   5261\u001b[0m ) \u001b[38;5;241m-\u001b[39m\u001b[38;5;241m>\u001b[39m DataFrame \u001b[38;5;241m|\u001b[39m \u001b[38;5;28;01mNone\u001b[39;00m:\n\u001b[1;32m   5262\u001b[0m \u001b[38;5;250m    \u001b[39m\u001b[38;5;124;03m\"\"\"\u001b[39;00m\n\u001b[1;32m   5263\u001b[0m \u001b[38;5;124;03m    Drop specified labels from rows or columns.\u001b[39;00m\n\u001b[1;32m   5264\u001b[0m \n\u001b[0;32m   (...)\u001b[0m\n\u001b[1;32m   5397\u001b[0m \u001b[38;5;124;03m            weight  1.0     0.8\u001b[39;00m\n\u001b[1;32m   5398\u001b[0m \u001b[38;5;124;03m    \"\"\"\u001b[39;00m\n\u001b[0;32m-> 5399\u001b[0m     \u001b[38;5;28;01mreturn\u001b[39;00m \u001b[38;5;28;43msuper\u001b[39;49m\u001b[43m(\u001b[49m\u001b[43m)\u001b[49m\u001b[38;5;241;43m.\u001b[39;49m\u001b[43mdrop\u001b[49m\u001b[43m(\u001b[49m\n\u001b[1;32m   5400\u001b[0m \u001b[43m        \u001b[49m\u001b[43mlabels\u001b[49m\u001b[38;5;241;43m=\u001b[39;49m\u001b[43mlabels\u001b[49m\u001b[43m,\u001b[49m\n\u001b[1;32m   5401\u001b[0m \u001b[43m        \u001b[49m\u001b[43maxis\u001b[49m\u001b[38;5;241;43m=\u001b[39;49m\u001b[43maxis\u001b[49m\u001b[43m,\u001b[49m\n\u001b[1;32m   5402\u001b[0m \u001b[43m        \u001b[49m\u001b[43mindex\u001b[49m\u001b[38;5;241;43m=\u001b[39;49m\u001b[43mindex\u001b[49m\u001b[43m,\u001b[49m\n\u001b[1;32m   5403\u001b[0m \u001b[43m        \u001b[49m\u001b[43mcolumns\u001b[49m\u001b[38;5;241;43m=\u001b[39;49m\u001b[43mcolumns\u001b[49m\u001b[43m,\u001b[49m\n\u001b[1;32m   5404\u001b[0m \u001b[43m        \u001b[49m\u001b[43mlevel\u001b[49m\u001b[38;5;241;43m=\u001b[39;49m\u001b[43mlevel\u001b[49m\u001b[43m,\u001b[49m\n\u001b[1;32m   5405\u001b[0m \u001b[43m        \u001b[49m\u001b[43minplace\u001b[49m\u001b[38;5;241;43m=\u001b[39;49m\u001b[43minplace\u001b[49m\u001b[43m,\u001b[49m\n\u001b[1;32m   5406\u001b[0m \u001b[43m        \u001b[49m\u001b[43merrors\u001b[49m\u001b[38;5;241;43m=\u001b[39;49m\u001b[43merrors\u001b[49m\u001b[43m,\u001b[49m\n\u001b[1;32m   5407\u001b[0m \u001b[43m    \u001b[49m\u001b[43m)\u001b[49m\n",
      "File \u001b[0;32m~/anaconda3/envs/dev/lib/python3.10/site-packages/pandas/util/_decorators.py:331\u001b[0m, in \u001b[0;36mdeprecate_nonkeyword_arguments.<locals>.decorate.<locals>.wrapper\u001b[0;34m(*args, **kwargs)\u001b[0m\n\u001b[1;32m    325\u001b[0m \u001b[38;5;28;01mif\u001b[39;00m \u001b[38;5;28mlen\u001b[39m(args) \u001b[38;5;241m>\u001b[39m num_allow_args:\n\u001b[1;32m    326\u001b[0m     warnings\u001b[38;5;241m.\u001b[39mwarn(\n\u001b[1;32m    327\u001b[0m         msg\u001b[38;5;241m.\u001b[39mformat(arguments\u001b[38;5;241m=\u001b[39m_format_argument_list(allow_args)),\n\u001b[1;32m    328\u001b[0m         \u001b[38;5;167;01mFutureWarning\u001b[39;00m,\n\u001b[1;32m    329\u001b[0m         stacklevel\u001b[38;5;241m=\u001b[39mfind_stack_level(),\n\u001b[1;32m    330\u001b[0m     )\n\u001b[0;32m--> 331\u001b[0m \u001b[38;5;28;01mreturn\u001b[39;00m \u001b[43mfunc\u001b[49m\u001b[43m(\u001b[49m\u001b[38;5;241;43m*\u001b[39;49m\u001b[43margs\u001b[49m\u001b[43m,\u001b[49m\u001b[43m \u001b[49m\u001b[38;5;241;43m*\u001b[39;49m\u001b[38;5;241;43m*\u001b[39;49m\u001b[43mkwargs\u001b[49m\u001b[43m)\u001b[49m\n",
      "File \u001b[0;32m~/anaconda3/envs/dev/lib/python3.10/site-packages/pandas/core/generic.py:4505\u001b[0m, in \u001b[0;36mNDFrame.drop\u001b[0;34m(self, labels, axis, index, columns, level, inplace, errors)\u001b[0m\n\u001b[1;32m   4503\u001b[0m \u001b[38;5;28;01mfor\u001b[39;00m axis, labels \u001b[38;5;129;01min\u001b[39;00m axes\u001b[38;5;241m.\u001b[39mitems():\n\u001b[1;32m   4504\u001b[0m     \u001b[38;5;28;01mif\u001b[39;00m labels \u001b[38;5;129;01mis\u001b[39;00m \u001b[38;5;129;01mnot\u001b[39;00m \u001b[38;5;28;01mNone\u001b[39;00m:\n\u001b[0;32m-> 4505\u001b[0m         obj \u001b[38;5;241m=\u001b[39m \u001b[43mobj\u001b[49m\u001b[38;5;241;43m.\u001b[39;49m\u001b[43m_drop_axis\u001b[49m\u001b[43m(\u001b[49m\u001b[43mlabels\u001b[49m\u001b[43m,\u001b[49m\u001b[43m \u001b[49m\u001b[43maxis\u001b[49m\u001b[43m,\u001b[49m\u001b[43m \u001b[49m\u001b[43mlevel\u001b[49m\u001b[38;5;241;43m=\u001b[39;49m\u001b[43mlevel\u001b[49m\u001b[43m,\u001b[49m\u001b[43m \u001b[49m\u001b[43merrors\u001b[49m\u001b[38;5;241;43m=\u001b[39;49m\u001b[43merrors\u001b[49m\u001b[43m)\u001b[49m\n\u001b[1;32m   4507\u001b[0m \u001b[38;5;28;01mif\u001b[39;00m inplace:\n\u001b[1;32m   4508\u001b[0m     \u001b[38;5;28mself\u001b[39m\u001b[38;5;241m.\u001b[39m_update_inplace(obj)\n",
      "File \u001b[0;32m~/anaconda3/envs/dev/lib/python3.10/site-packages/pandas/core/generic.py:4546\u001b[0m, in \u001b[0;36mNDFrame._drop_axis\u001b[0;34m(self, labels, axis, level, errors, only_slice)\u001b[0m\n\u001b[1;32m   4544\u001b[0m         new_axis \u001b[38;5;241m=\u001b[39m axis\u001b[38;5;241m.\u001b[39mdrop(labels, level\u001b[38;5;241m=\u001b[39mlevel, errors\u001b[38;5;241m=\u001b[39merrors)\n\u001b[1;32m   4545\u001b[0m     \u001b[38;5;28;01melse\u001b[39;00m:\n\u001b[0;32m-> 4546\u001b[0m         new_axis \u001b[38;5;241m=\u001b[39m \u001b[43maxis\u001b[49m\u001b[38;5;241;43m.\u001b[39;49m\u001b[43mdrop\u001b[49m\u001b[43m(\u001b[49m\u001b[43mlabels\u001b[49m\u001b[43m,\u001b[49m\u001b[43m \u001b[49m\u001b[43merrors\u001b[49m\u001b[38;5;241;43m=\u001b[39;49m\u001b[43merrors\u001b[49m\u001b[43m)\u001b[49m\n\u001b[1;32m   4547\u001b[0m     indexer \u001b[38;5;241m=\u001b[39m axis\u001b[38;5;241m.\u001b[39mget_indexer(new_axis)\n\u001b[1;32m   4549\u001b[0m \u001b[38;5;66;03m# Case for non-unique axis\u001b[39;00m\n\u001b[1;32m   4550\u001b[0m \u001b[38;5;28;01melse\u001b[39;00m:\n",
      "File \u001b[0;32m~/anaconda3/envs/dev/lib/python3.10/site-packages/pandas/core/indexes/base.py:6934\u001b[0m, in \u001b[0;36mIndex.drop\u001b[0;34m(self, labels, errors)\u001b[0m\n\u001b[1;32m   6932\u001b[0m \u001b[38;5;28;01mif\u001b[39;00m mask\u001b[38;5;241m.\u001b[39many():\n\u001b[1;32m   6933\u001b[0m     \u001b[38;5;28;01mif\u001b[39;00m errors \u001b[38;5;241m!=\u001b[39m \u001b[38;5;124m\"\u001b[39m\u001b[38;5;124mignore\u001b[39m\u001b[38;5;124m\"\u001b[39m:\n\u001b[0;32m-> 6934\u001b[0m         \u001b[38;5;28;01mraise\u001b[39;00m \u001b[38;5;167;01mKeyError\u001b[39;00m(\u001b[38;5;124mf\u001b[39m\u001b[38;5;124m\"\u001b[39m\u001b[38;5;132;01m{\u001b[39;00m\u001b[38;5;28mlist\u001b[39m(labels[mask])\u001b[38;5;132;01m}\u001b[39;00m\u001b[38;5;124m not found in axis\u001b[39m\u001b[38;5;124m\"\u001b[39m)\n\u001b[1;32m   6935\u001b[0m     indexer \u001b[38;5;241m=\u001b[39m indexer[\u001b[38;5;241m~\u001b[39mmask]\n\u001b[1;32m   6936\u001b[0m \u001b[38;5;28;01mreturn\u001b[39;00m \u001b[38;5;28mself\u001b[39m\u001b[38;5;241m.\u001b[39mdelete(indexer)\n",
      "\u001b[0;31mKeyError\u001b[0m: \"['row_missing_percent'] not found in axis\""
     ]
    }
   ],
   "source": [
    "df_commerce_relevant_answered.drop(labels='row_missing_percent', axis=1, inplace=True)"
   ]
  },
  {
   "cell_type": "code",
   "execution_count": null,
   "id": "4514f456-f393-41e2-a6c9-d9907f675465",
   "metadata": {
    "tags": []
   },
   "outputs": [],
   "source": [
    "#drop rows where the outcome variable is missing (this is what we are studying)\n",
    "df_commerce_relevant_answered = df_commerce_relevant_answered.loc[df_commerce_relevant_answered['DLEAVING'].isin(['A', 'B', 'C', 'D'])]\n",
    "df_commerce_relevant_answered"
   ]
  },
  {
   "cell_type": "markdown",
   "id": "26e421c2-e73f-48c6-9931-3e68ac244574",
   "metadata": {},
   "source": [
    "####   Check to see if any variables have blank/missing for more than 10% of their values. Decide whether you want to drop these variables. If you retain them consider running the models with and without those variables."
   ]
  },
  {
   "cell_type": "code",
   "execution_count": null,
   "id": "127cf1e3-974b-496c-81dd-87e392dab64f",
   "metadata": {},
   "outputs": [],
   "source": [
    "# #Check to see if any variables have blank/missing calculate percent missing for column\n",
    "# missing_df = pd.DataFrame(df_labor_relevant_answered.isnull().mean()).reset_index()\n",
    "# missing_df.rename({'index':'variable_name',0:'percent_missing'}, axis=1, inplace=True)\n",
    "# missing_df"
   ]
  },
  {
   "cell_type": "markdown",
   "id": "a8f77857-f9d8-45fe-8038-e672e58681a5",
   "metadata": {},
   "source": [
    "#### For the variables with blank/missing or ‘Do Not Know’ values either recode those values to the median of the other values."
   ]
  },
  {
   "cell_type": "code",
   "execution_count": null,
   "id": "1fbe4d53-f41f-4ea3-be9b-d9e3c3dc3956",
   "metadata": {},
   "outputs": [],
   "source": [
    "# # convert X to missing\n",
    "# df_labor_recoded = df_labor_relevant_answered.replace(r'X', np.nan, regex=True)\n",
    "# df_labor_recoded"
   ]
  },
  {
   "cell_type": "code",
   "execution_count": null,
   "id": "4d9b217f-6c6f-4fb2-952d-90d1855b1e61",
   "metadata": {
    "tags": []
   },
   "outputs": [],
   "source": [
    "# # put the columns in a list\n",
    "# df_labor_columns = df_labor_recoded.columns.tolist()\n",
    "# df_labor_columns"
   ]
  },
  {
   "cell_type": "code",
   "execution_count": null,
   "id": "4728f560-feb5-4243-b21b-18de0f40adb2",
   "metadata": {},
   "outputs": [],
   "source": [
    "# #impute with mode (doesn't mess with distribution)\n",
    "# for impute_column in df_labor_columns:\n",
    "#     df_labor_recoded[impute_column].fillna(df_labor_recoded[impute_column].mode()[0], inplace=True)"
   ]
  },
  {
   "cell_type": "code",
   "execution_count": null,
   "id": "62ce5164-3256-47f0-a8b5-2d12b4a50c56",
   "metadata": {
    "tags": []
   },
   "outputs": [],
   "source": [
    "# df_labor_recoded"
   ]
  },
  {
   "cell_type": "markdown",
   "id": "bf2114a2-66fe-4988-8f53-c56d820642ab",
   "metadata": {},
   "source": [
    "#### Create a dummy variable for each row that captures whether any recodes were done. You will use this as an additional variable in your model."
   ]
  },
  {
   "cell_type": "code",
   "execution_count": null,
   "id": "629f11eb-91d6-4b8b-af12-ba45517da099",
   "metadata": {},
   "outputs": [],
   "source": []
  },
  {
   "cell_type": "markdown",
   "id": "dc2977da-089e-4cac-8181-926cde6b2d9a",
   "metadata": {
    "tags": []
   },
   "source": [
    "#### For Question 84 you will need to create dummy codes. Plot the distribution of values and decide whether to create dummies for each value or whether to combine some. Describe why you made the choice you did."
   ]
  },
  {
   "cell_type": "code",
   "execution_count": null,
   "id": "7fdcca37-cc9d-4e47-bb9a-087802a4dcc8",
   "metadata": {
    "tags": []
   },
   "outputs": [],
   "source": [
    "# df_labor_recoded['Q84'].value_counts()"
   ]
  },
  {
   "cell_type": "code",
   "execution_count": null,
   "id": "c45cfeb4-abfa-4280-9e91-f7ca897e6395",
   "metadata": {},
   "outputs": [],
   "source": [
    "# #turn variable into a binary variable (do you have any unmet needs or is this org failing to meet your needs)\n",
    "# #Reducing it to either Needs are met \n",
    "# df_labor_recoded['Q84'] = np.where(df_labor_recoded['Q84'].isin(['1', '2']),1,0)"
   ]
  },
  {
   "cell_type": "code",
   "execution_count": null,
   "id": "d6fe0472-01be-4d79-b865-3349a0227949",
   "metadata": {
    "tags": []
   },
   "outputs": [],
   "source": [
    "# df_labor_recoded.info()"
   ]
  },
  {
   "cell_type": "code",
   "execution_count": null,
   "id": "16e933a0-bb3d-40c4-ad51-e0f87f811fbf",
   "metadata": {},
   "outputs": [],
   "source": [
    "# #change type for numeric vars\n",
    "# numeric_vars = []\n",
    "# for num_columns in numeric_vars:\n",
    "#     df_labor_recoded[num_columns]=df_labor_recoded[num_columns].astype(int)\n",
    "    \n",
    "# df_labor_recoded.info()"
   ]
  },
  {
   "cell_type": "markdown",
   "id": "2c4ff19f-a609-452d-8a1f-bd01738b1b6d",
   "metadata": {},
   "source": [
    "#### Recode the demographic variables using dummies"
   ]
  },
  {
   "cell_type": "code",
   "execution_count": null,
   "id": "2fe52357-05fb-48ed-80c9-d463a54359ad",
   "metadata": {
    "tags": []
   },
   "outputs": [],
   "source": [
    "# #(6) get dummies for variables in Demographic Codes (DO NOT DO THIS FOR OUTCOME & Q84)\n",
    "# demo_dummies = pd.get_dummies(df_labor_recoded, columns=['DRNO', 'DHISP', 'DDIS', 'DAGEGRP', 'DSUPER', 'DFEDTEN', 'DSEX', 'DMIL'])\n",
    "\n",
    "# demo_dummies.tail()"
   ]
  },
  {
   "cell_type": "code",
   "execution_count": null,
   "id": "bffc811d-69f7-42cb-b5d6-86ab142cb8a5",
   "metadata": {
    "tags": []
   },
   "outputs": [],
   "source": [
    "# demo_dummies.columns.to_list()"
   ]
  },
  {
   "cell_type": "markdown",
   "id": "997149a1-61cc-4220-8ba2-33f691625eb2",
   "metadata": {},
   "source": [
    "#### Recode the outcome variable so that 0 if ‘No’ (‘A’) or 1 if anything else ‘Yes’ (‘B’, ‘C’, ‘D’) "
   ]
  },
  {
   "cell_type": "code",
   "execution_count": null,
   "id": "e6624619-4be5-466a-8b5a-f364643c262c",
   "metadata": {
    "tags": []
   },
   "outputs": [],
   "source": [
    "# demo_dummies['DLEAVING'] = np.where(demo_dummies['DLEAVING'] == 'A', 0, 1)\n",
    "\n",
    "# demo_dummies"
   ]
  },
  {
   "cell_type": "markdown",
   "id": "fc5c65ce-7ce6-4fc9-a315-2afa1295bc3b",
   "metadata": {},
   "source": [
    "####  Combine all of the variables back into a single dataframe"
   ]
  },
  {
   "cell_type": "code",
   "execution_count": null,
   "id": "c0e68886-f307-412c-8750-59aebeba9813",
   "metadata": {
    "tags": []
   },
   "outputs": [],
   "source": [
    "# combined_labor_df = demo_dummies.copy()\n",
    "# combined_labor_df.info()"
   ]
  },
  {
   "cell_type": "code",
   "execution_count": null,
   "id": "f8d08475-45d1-4d4c-b4b5-a216708ce0a7",
   "metadata": {
    "tags": []
   },
   "outputs": [],
   "source": [
    "# combined_labor_df.columns.to_list()"
   ]
  },
  {
   "cell_type": "markdown",
   "id": "88e210fe-fd4b-461d-8fc1-676d76fa78ff",
   "metadata": {},
   "source": [
    "#### Rename variables to be easier to interpret (suggest abbreviating or adding prefix or suffice to Q#)"
   ]
  },
  {
   "cell_type": "code",
   "execution_count": null,
   "id": "2b9f7749-6e74-4c56-a884-227e1bc057ac",
   "metadata": {},
   "outputs": [],
   "source": []
  },
  {
   "cell_type": "code",
   "execution_count": null,
   "id": "248528c7-a8db-473b-b780-492be35ad52d",
   "metadata": {},
   "outputs": [],
   "source": []
  },
  {
   "cell_type": "code",
   "execution_count": null,
   "id": "bb99ba3a-1253-4a7a-a5d7-1d48c81e44bb",
   "metadata": {},
   "outputs": [],
   "source": []
  },
  {
   "cell_type": "code",
   "execution_count": null,
   "id": "fd777b65-b9cd-4b42-bd45-fdd8d6ed5d39",
   "metadata": {},
   "outputs": [],
   "source": []
  },
  {
   "cell_type": "code",
   "execution_count": null,
   "id": "6f39e2e6-9a65-4e60-8bdd-734f979611bc",
   "metadata": {},
   "outputs": [],
   "source": []
  },
  {
   "cell_type": "code",
   "execution_count": null,
   "id": "2a0e44ad-caf8-4e94-96f2-97872b95b027",
   "metadata": {},
   "outputs": [],
   "source": []
  },
  {
   "cell_type": "code",
   "execution_count": null,
   "id": "1df01d28-2aa3-4818-9a6f-8f6812b1b6e2",
   "metadata": {},
   "outputs": [],
   "source": [
    "#who does this predict poorly for\n",
    "#how does it predict differently for \n",
    "#different sub-populations\n",
    "\n",
    "#identify those it identifies correctly or incorrectly to \n",
    "#check for bias\n",
    "\n",
    "#Key course parts for executing any project: Day 1 Supervised Learning: Activities 3 & 5; Day 2 Supervised Learning Activity 5; Day 2 Unsupervised Learning Activity 4"
   ]
  },
  {
   "cell_type": "code",
   "execution_count": null,
   "id": "f34b9195-cc88-4a3b-b294-4cce5e683d16",
   "metadata": {},
   "outputs": [],
   "source": []
  }
 ],
 "metadata": {
  "kernelspec": {
   "display_name": "dev",
   "language": "python",
   "name": "dev"
  },
  "language_info": {
   "codemirror_mode": {
    "name": "ipython",
    "version": 3
   },
   "file_extension": ".py",
   "mimetype": "text/x-python",
   "name": "python",
   "nbconvert_exporter": "python",
   "pygments_lexer": "ipython3",
   "version": "3.10.12"
  }
 },
 "nbformat": 4,
 "nbformat_minor": 5
}
