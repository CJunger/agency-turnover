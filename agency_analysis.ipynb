{
 "cells": [
  {
   "cell_type": "code",
   "execution_count": null,
   "id": "fede8f00-bb00-4fe7-a6b2-fff8c2f01ab9",
   "metadata": {},
   "outputs": [],
   "source": [
    "#import the dependencies\n"
   ]
  },
  {
   "cell_type": "code",
   "execution_count": null,
   "id": "e477517c-fe18-4b77-ac02-a2bdcec8cf1c",
   "metadata": {},
   "outputs": [],
   "source": [
    "#import the data as a dataframe"
   ]
  },
  {
   "cell_type": "code",
   "execution_count": null,
   "id": "08f94257-338d-44b7-8632-41b347be7b7b",
   "metadata": {},
   "outputs": [],
   "source": [
    "#Select either the Department of Labor or the Department of Commerce dataframe and generate counts for each value and plot in bar charts along \n",
    "#with the count values either on the bar chart or a separate table."
   ]
  },
  {
   "cell_type": "code",
   "execution_count": null,
   "id": "52b965a3-dcd5-4693-ab8f-26b86323b140",
   "metadata": {},
   "outputs": [],
   "source": [
    "#Recode any variables where this is necessary. This must all be done in code because you will use the code to make the exact same changes to the second dataset later:\n",
    "#"
   ]
  },
  {
   "cell_type": "code",
   "execution_count": null,
   "id": "1df01d28-2aa3-4818-9a6f-8f6812b1b6e2",
   "metadata": {},
   "outputs": [],
   "source": [
    "#who does this predict poorly for\n",
    "#how does it predict differently for \n",
    "#different sub-populations\n",
    "\n",
    "#identify those it identifies correctly or incorrectly to \n",
    "#check for bias\n",
    "\n",
    "#Key course parts for executing any project: Day 1 Supervised Learning: Activities 3 & 5; Day 2 Supervised Learning Activity 5; Day 2 Unsupervised Learning Activity 4"
   ]
  }
 ],
 "metadata": {
  "kernelspec": {
   "display_name": "Python 3 (ipykernel)",
   "language": "python",
   "name": "python3"
  },
  "language_info": {
   "codemirror_mode": {
    "name": "ipython",
    "version": 3
   },
   "file_extension": ".py",
   "mimetype": "text/x-python",
   "name": "python",
   "nbconvert_exporter": "python",
   "pygments_lexer": "ipython3",
   "version": "3.10.12"
  }
 },
 "nbformat": 4,
 "nbformat_minor": 5
}
